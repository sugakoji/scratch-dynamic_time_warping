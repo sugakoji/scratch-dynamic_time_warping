{
 "cells": [
  {
   "cell_type": "code",
   "execution_count": 129,
   "metadata": {},
   "outputs": [],
   "source": [
    "import numpy as np\n",
    "import pandas as pd\n",
    "import matplotlib.pylab as plt"
   ]
  },
  {
   "cell_type": "markdown",
   "metadata": {},
   "source": [
    "# sin波とcos派で作成"
   ]
  },
  {
   "cell_type": "code",
   "execution_count": 130,
   "metadata": {},
   "outputs": [
    {
     "data": {
      "image/png": "[encoded data removed]",
      "text/plain": [
       "<Figure size 432x288 with 1 Axes>"
      ]
     },
     "metadata": {
      "needs_background": "light"
     },
     "output_type": "display_data"
    }
   ],
   "source": [
    "\n",
    "fig = plt.figure() \n",
    "ax = plt.axes()\n",
    "\n",
    "x = np.linspace(-np.pi, np.pi, 20)\n",
    "sin_wave = np.sin(x)\n",
    "cos_wave = np.cos(x)\n",
    "ax.plot(x, sin_wave , label = \"preceding wave\")\n",
    "ax.plot(x, cos_wave, label = \"wave\")\n",
    "plt.legend()\n",
    "plt.show()"
   ]
  },
  {
   "cell_type": "markdown",
   "metadata": {},
   "source": [
    "# DTWの実装"
   ]
  },
  {
   "cell_type": "code",
   "execution_count": 143,
   "metadata": {
    "scrolled": true
   },
   "outputs": [],
   "source": [
    "# 気をつける点\n",
    "# https://medium.com/@shachiakyaagba_41915/dynamic-time-warping-with-time-series-1f5c05fb8950\n",
    "\n",
    "\n",
    "def get_dtw_distance(x_vec, y_vec):\n",
    "    \n",
    "    x_length = len(x_vec) +1\n",
    "    y_length = len(y_vec)+1 \n",
    "\n",
    "    dtw_dis = np.full((x_length,y_length), np.inf)\n",
    "    dtw_dis[0][0] = 0\n",
    "    for i in range(1, x_length):\n",
    "        for j in range(1, y_length):\n",
    "            base_dis = abs(sin_wave[i-1] -  cos_wave[j-1])\n",
    "            dtw_dis[i][j] = base_dis + min(dtw_dis[i-1][j-1],\n",
    "                                           dtw_dis[i-1][j],\n",
    "                                           dtw_dis[i][j-1])\n",
    "    return dtw_dis[-1][-1]"
   ]
  },
  {
   "cell_type": "code",
   "execution_count": 144,
   "metadata": {},
   "outputs": [
    {
     "data": {
      "text/plain": [
       "6.441611700120721"
      ]
     },
     "execution_count": 144,
     "metadata": {},
     "output_type": "execute_result"
    }
   ],
   "source": [
    "get_dtw_distance(sin_wave, cos_wave )"
   ]
  },
  {
   "cell_type": "code",
   "execution_count": null,
   "metadata": {},
   "outputs": [],
   "source": []
  },
  {
   "cell_type": "code",
   "execution_count": null,
   "metadata": {},
   "outputs": [],
   "source": []
  },
  {
   "cell_type": "code",
   "execution_count": 145,
   "metadata": {},
   "outputs": [],
   "source": [
    "import numpy as np\n",
    "\n",
    "target_sig = np.random.normal(size=1000) * 1.0\n",
    "delay = 800\n",
    "sig1 = np.random.normal(size=2000) * 0.2\n",
    "sig1[delay:delay+1000] += target_sig\n",
    "sig2 = np.random.normal(size=2000) * 0.2\n",
    "sig2[:1000] += target_sig"
   ]
  },
  {
   "cell_type": "code",
   "execution_count": 146,
   "metadata": {},
   "outputs": [
    {
     "name": "stdout",
     "output_type": "stream",
     "text": [
      "estimated delay is 800\n"
     ]
    }
   ],
   "source": [
    "import numpy as np\n",
    "\n",
    "corr = np.correlate(sig1, sig2, \"full\")\n",
    "estimated_delay = corr.argmax() - (len(sig2) - 1)\n",
    "print(\"estimated delay is \" + str(estimated_delay))"
   ]
  },
  {
   "cell_type": "code",
   "execution_count": 147,
   "metadata": {},
   "outputs": [
    {
     "data": {
      "text/plain": [
       "array([-0.04873389,  0.04239892, -0.02645615, ...,  0.24884935,\n",
       "       -0.34844394,  1.11643712])"
      ]
     },
     "execution_count": 147,
     "metadata": {},
     "output_type": "execute_result"
    }
   ],
   "source": [
    "corr"
   ]
  },
  {
   "cell_type": "code",
   "execution_count": null,
   "metadata": {},
   "outputs": [],
   "source": []
  }
 ],
 "metadata": {
  "kernelspec": {
   "display_name": "Python 3",
   "language": "python",
   "name": "python3"
  },
  "language_info": {
   "codemirror_mode": {
    "name": "ipython",
    "version": 3
   },
   "file_extension": ".py",
   "mimetype": "text/x-python",
   "name": "python",
   "nbconvert_exporter": "python",
   "pygments_lexer": "ipython3",
   "version": "3.7.3"
  }
 },
 "nbformat": 4,
 "nbformat_minor": 2
}
